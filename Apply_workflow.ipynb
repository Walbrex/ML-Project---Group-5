{
 "cells": [
  {
   "cell_type": "markdown",
   "metadata": {},
   "source": [
    "# Machine Learning Project : Binary Classification"
   ]
  },
  {
   "cell_type": "markdown",
   "metadata": {},
   "source": [
    "#### CHILD-JAUVERT Victor - CLAIR Robin - DE ROMEMONT Charlotte - DUSSOLLE Antoine"
   ]
  },
  {
   "cell_type": "markdown",
   "metadata": {},
   "source": [
    "NB : The accuracy scores obtained are biased by the fact that some of the information is held in memory by Jupyter, so the scores we get here are a bit higher than the scores we recorded the first time we ran this workflow."
   ]
  },
  {
   "cell_type": "code",
   "execution_count": 33,
   "metadata": {},
   "outputs": [],
   "source": [
    "# First we import all the functions we are going to use to apply the workflow, from the .py file\n",
    "from ProjectFunctions import importData, cleanData, splitData, trainKnn, trainRfc, testModel "
   ]
  },
  {
   "cell_type": "markdown",
   "metadata": {},
   "source": [
    "## First case : Banknote Authentification Dataset "
   ]
  },
  {
   "cell_type": "markdown",
   "metadata": {},
   "source": [
    "### 1. Import the dataset"
   ]
  },
  {
   "cell_type": "markdown",
   "metadata": {},
   "source": [
    "Import the data and display some information about it to get a better understanding of its structure."
   ]
  },
  {
   "cell_type": "code",
   "execution_count": 34,
   "metadata": {},
   "outputs": [],
   "source": [
    "# First case : Banknote\n",
    "file = 'data_banknote_authentication.txt'"
   ]
  },
  {
   "cell_type": "code",
   "execution_count": 35,
   "metadata": {},
   "outputs": [],
   "source": [
    "# Import the dataset and its main caracteristics\n",
    "banknotes, banknotesShape, banknotesHead = importData(file)"
   ]
  },
  {
   "cell_type": "code",
   "execution_count": 36,
   "metadata": {},
   "outputs": [
    {
     "name": "stdout",
     "output_type": "stream",
     "text": [
      "The dataset has 5 columns and 1371 rows\n"
     ]
    }
   ],
   "source": [
    "print(\"The dataset has {} columns and {} rows\".format(banknotesShape[1],banknotesShape[0]))"
   ]
  },
  {
   "cell_type": "code",
   "execution_count": 37,
   "metadata": {},
   "outputs": [
    {
     "data": {
      "text/html": [
       "<div>\n",
       "<style scoped>\n",
       "    .dataframe tbody tr th:only-of-type {\n",
       "        vertical-align: middle;\n",
       "    }\n",
       "\n",
       "    .dataframe tbody tr th {\n",
       "        vertical-align: top;\n",
       "    }\n",
       "\n",
       "    .dataframe thead th {\n",
       "        text-align: right;\n",
       "    }\n",
       "</style>\n",
       "<table border=\"1\" class=\"dataframe\">\n",
       "  <thead>\n",
       "    <tr style=\"text-align: right;\">\n",
       "      <th></th>\n",
       "      <th>variance</th>\n",
       "      <th>skewness</th>\n",
       "      <th>curtosis</th>\n",
       "      <th>entropy</th>\n",
       "      <th>class</th>\n",
       "    </tr>\n",
       "  </thead>\n",
       "  <tbody>\n",
       "    <tr>\n",
       "      <th>0</th>\n",
       "      <td>4.54590</td>\n",
       "      <td>8.1674</td>\n",
       "      <td>-2.4586</td>\n",
       "      <td>-1.46210</td>\n",
       "      <td>0</td>\n",
       "    </tr>\n",
       "    <tr>\n",
       "      <th>1</th>\n",
       "      <td>3.86600</td>\n",
       "      <td>-2.6383</td>\n",
       "      <td>1.9242</td>\n",
       "      <td>0.10645</td>\n",
       "      <td>0</td>\n",
       "    </tr>\n",
       "    <tr>\n",
       "      <th>2</th>\n",
       "      <td>3.45660</td>\n",
       "      <td>9.5228</td>\n",
       "      <td>-4.0112</td>\n",
       "      <td>-3.59440</td>\n",
       "      <td>0</td>\n",
       "    </tr>\n",
       "    <tr>\n",
       "      <th>3</th>\n",
       "      <td>0.32924</td>\n",
       "      <td>-4.4552</td>\n",
       "      <td>4.5718</td>\n",
       "      <td>-0.98880</td>\n",
       "      <td>0</td>\n",
       "    </tr>\n",
       "    <tr>\n",
       "      <th>4</th>\n",
       "      <td>4.36840</td>\n",
       "      <td>9.6718</td>\n",
       "      <td>-3.9606</td>\n",
       "      <td>-3.16250</td>\n",
       "      <td>0</td>\n",
       "    </tr>\n",
       "  </tbody>\n",
       "</table>\n",
       "</div>"
      ],
      "text/plain": [
       "   variance  skewness  curtosis  entropy  class\n",
       "0   4.54590    8.1674   -2.4586 -1.46210      0\n",
       "1   3.86600   -2.6383    1.9242  0.10645      0\n",
       "2   3.45660    9.5228   -4.0112 -3.59440      0\n",
       "3   0.32924   -4.4552    4.5718 -0.98880      0\n",
       "4   4.36840    9.6718   -3.9606 -3.16250      0"
      ]
     },
     "execution_count": 37,
     "metadata": {},
     "output_type": "execute_result"
    }
   ],
   "source": [
    "# Display the first rows of the dataset\n",
    "banknotesHead"
   ]
  },
  {
   "cell_type": "markdown",
   "metadata": {},
   "source": [
    "### 2. Clean the data & perform preprocessing"
   ]
  },
  {
   "cell_type": "code",
   "execution_count": 38,
   "metadata": {},
   "outputs": [],
   "source": [
    "# Clean the data (remove dirtiness, centralize, normalize, ...) and retrieve the ground truth vector\n",
    "banknotes, y = cleanData(banknotes)"
   ]
  },
  {
   "cell_type": "code",
   "execution_count": 39,
   "metadata": {},
   "outputs": [
    {
     "data": {
      "text/html": [
       "<div>\n",
       "<style scoped>\n",
       "    .dataframe tbody tr th:only-of-type {\n",
       "        vertical-align: middle;\n",
       "    }\n",
       "\n",
       "    .dataframe tbody tr th {\n",
       "        vertical-align: top;\n",
       "    }\n",
       "\n",
       "    .dataframe thead th {\n",
       "        text-align: right;\n",
       "    }\n",
       "</style>\n",
       "<table border=\"1\" class=\"dataframe\">\n",
       "  <thead>\n",
       "    <tr style=\"text-align: right;\">\n",
       "      <th></th>\n",
       "      <th>variance</th>\n",
       "      <th>skewness</th>\n",
       "      <th>curtosis</th>\n",
       "      <th>entropy</th>\n",
       "    </tr>\n",
       "  </thead>\n",
       "  <tbody>\n",
       "    <tr>\n",
       "      <th>0</th>\n",
       "      <td>1.447493</td>\n",
       "      <td>1.065028</td>\n",
       "      <td>-0.895406</td>\n",
       "      <td>-0.128421</td>\n",
       "    </tr>\n",
       "    <tr>\n",
       "      <th>1</th>\n",
       "      <td>1.208301</td>\n",
       "      <td>-0.776322</td>\n",
       "      <td>0.121460</td>\n",
       "      <td>0.617909</td>\n",
       "    </tr>\n",
       "    <tr>\n",
       "      <th>2</th>\n",
       "      <td>1.064273</td>\n",
       "      <td>1.295995</td>\n",
       "      <td>-1.255629</td>\n",
       "      <td>-1.142989</td>\n",
       "    </tr>\n",
       "    <tr>\n",
       "      <th>3</th>\n",
       "      <td>-0.035944</td>\n",
       "      <td>-1.085931</td>\n",
       "      <td>0.735738</td>\n",
       "      <td>0.096779</td>\n",
       "    </tr>\n",
       "    <tr>\n",
       "      <th>4</th>\n",
       "      <td>1.385048</td>\n",
       "      <td>1.321386</td>\n",
       "      <td>-1.243890</td>\n",
       "      <td>-0.937487</td>\n",
       "    </tr>\n",
       "    <tr>\n",
       "      <th>...</th>\n",
       "      <td>...</td>\n",
       "      <td>...</td>\n",
       "      <td>...</td>\n",
       "      <td>...</td>\n",
       "    </tr>\n",
       "    <tr>\n",
       "      <th>1366</th>\n",
       "      <td>-0.008890</td>\n",
       "      <td>-0.096830</td>\n",
       "      <td>-0.661421</td>\n",
       "      <td>0.301049</td>\n",
       "    </tr>\n",
       "    <tr>\n",
       "      <th>1367</th>\n",
       "      <td>-0.640321</td>\n",
       "      <td>-1.157859</td>\n",
       "      <td>1.177861</td>\n",
       "      <td>0.729886</td>\n",
       "    </tr>\n",
       "    <tr>\n",
       "      <th>1368</th>\n",
       "      <td>-1.471141</td>\n",
       "      <td>-2.620159</td>\n",
       "      <td>3.756871</td>\n",
       "      <td>-0.754110</td>\n",
       "    </tr>\n",
       "    <tr>\n",
       "      <th>1369</th>\n",
       "      <td>-1.405494</td>\n",
       "      <td>-1.755199</td>\n",
       "      <td>2.550357</td>\n",
       "      <td>-0.042871</td>\n",
       "    </tr>\n",
       "    <tr>\n",
       "      <th>1370</th>\n",
       "      <td>-1.046021</td>\n",
       "      <td>-0.438875</td>\n",
       "      <td>0.297790</td>\n",
       "      <td>1.135946</td>\n",
       "    </tr>\n",
       "  </tbody>\n",
       "</table>\n",
       "<p>1371 rows × 4 columns</p>\n",
       "</div>"
      ],
      "text/plain": [
       "      variance  skewness  curtosis   entropy\n",
       "0     1.447493  1.065028 -0.895406 -0.128421\n",
       "1     1.208301 -0.776322  0.121460  0.617909\n",
       "2     1.064273  1.295995 -1.255629 -1.142989\n",
       "3    -0.035944 -1.085931  0.735738  0.096779\n",
       "4     1.385048  1.321386 -1.243890 -0.937487\n",
       "...        ...       ...       ...       ...\n",
       "1366 -0.008890 -0.096830 -0.661421  0.301049\n",
       "1367 -0.640321 -1.157859  1.177861  0.729886\n",
       "1368 -1.471141 -2.620159  3.756871 -0.754110\n",
       "1369 -1.405494 -1.755199  2.550357 -0.042871\n",
       "1370 -1.046021 -0.438875  0.297790  1.135946\n",
       "\n",
       "[1371 rows x 4 columns]"
      ]
     },
     "execution_count": 39,
     "metadata": {},
     "output_type": "execute_result"
    }
   ],
   "source": [
    "# Display the cleaned dataset\n",
    "banknotes"
   ]
  },
  {
   "cell_type": "markdown",
   "metadata": {},
   "source": [
    "### 3. Split the dataset"
   ]
  },
  {
   "cell_type": "code",
   "execution_count": 40,
   "metadata": {},
   "outputs": [],
   "source": [
    "# Split the dataset into 2 parts : a train set & a test set\n",
    "X_train,X_test,y_train,y_test = splitData(banknotes,y)"
   ]
  },
  {
   "cell_type": "markdown",
   "metadata": {},
   "source": [
    "### 4. Train models"
   ]
  },
  {
   "cell_type": "markdown",
   "metadata": {},
   "source": [
    "Train 2 K-Nearest Neighbors (KNN) models, one with an arbitrarily chosen value of K and another one with the top performing value of K, in a given set of values, selected thanks to cross-validation."
   ]
  },
  {
   "cell_type": "code",
   "execution_count": 41,
   "metadata": {},
   "outputs": [],
   "source": [
    "# Train a first K-Nearest Neighbors (KNN) model with an arbitrarily chosen default number of neighbours (=5).\n",
    "knn = trainKnn(X_train,y_train)"
   ]
  },
  {
   "cell_type": "code",
   "execution_count": 42,
   "metadata": {},
   "outputs": [
    {
     "name": "stdout",
     "output_type": "stream",
     "text": [
      "The top performing value for K is 2 with a mean score of 0.9989583333333334\n"
     ]
    }
   ],
   "source": [
    "# Train another KNN model, but, this time, using cross-validation (with 10 folds) for the choice of K in [1,25].\n",
    "import numpy as np\n",
    "knn_gscv, best_params, best_score = trainKnn(X_train,y_train,crossval=True,n_neighbors=np.arange(1,25),cv=10)\n",
    "\n",
    "# Display the top performing number of neigbor value & the mean score for the top performing number of neigbor value\n",
    "print(\"The top performing value for K is {} with a mean score of {}\".format(best_params['n_neighbors'],best_score))"
   ]
  },
  {
   "cell_type": "markdown",
   "metadata": {},
   "source": [
    "Train 2 Random Forest models, the second one being trained on a training set on which feature selection has been previously done."
   ]
  },
  {
   "cell_type": "code",
   "execution_count": 43,
   "metadata": {},
   "outputs": [],
   "source": [
    "# Train a Random Forest Classifier (RFC) with 1000 trees \n",
    "rfc = trainRfc(X_train,y_train)"
   ]
  },
  {
   "cell_type": "code",
   "execution_count": 44,
   "metadata": {},
   "outputs": [
    {
     "name": "stdout",
     "output_type": "stream",
     "text": [
      "The most relevant features are : ['variance', 'skewness', 'curtosis']\n"
     ]
    },
    {
     "data": {
      "image/png": "[encoded data removed]",
      "text/plain": [
       "<Figure size 864x216 with 1 Axes>"
      ]
     },
     "metadata": {
      "needs_background": "light"
     },
     "output_type": "display_data"
    }
   ],
   "source": [
    "# Train a Random Forest Classifier model with feature selection done beforehead.\n",
    "rfc_fs, X_test_fs = trainRfc(X_train,y_train,featureselection=True,t=0.15,X_test=X_test)"
   ]
  },
  {
   "cell_type": "markdown",
   "metadata": {},
   "source": [
    "Feature selection is done on a first random forest classifier from which we extract the feature that were the most discriminant to produce a final random forest classifier only based on the most relevant features."
   ]
  },
  {
   "cell_type": "markdown",
   "metadata": {},
   "source": [
    "### 5. Validate the models"
   ]
  },
  {
   "cell_type": "markdown",
   "metadata": {},
   "source": [
    "Display the accuracy scores for each model trained above. "
   ]
  },
  {
   "cell_type": "code",
   "execution_count": 45,
   "metadata": {},
   "outputs": [
    {
     "name": "stdout",
     "output_type": "stream",
     "text": [
      "This is the classification report :                precision    recall  f1-score   support\n",
      "\n",
      "           0       1.00      1.00      1.00       237\n",
      "           1       0.99      1.00      1.00       175\n",
      "\n",
      "    accuracy                           1.00       412\n",
      "   macro avg       1.00      1.00      1.00       412\n",
      "weighted avg       1.00      1.00      1.00       412\n",
      "\n",
      "This is the accuracy score :  0.9975728155339806\n"
     ]
    }
   ],
   "source": [
    "# Test the KNN model without the most accurate K value and display the main performance indicators\n",
    "testModel(knn, X_test, y_test)"
   ]
  },
  {
   "cell_type": "code",
   "execution_count": 46,
   "metadata": {},
   "outputs": [
    {
     "name": "stdout",
     "output_type": "stream",
     "text": [
      "This is the classification report :                precision    recall  f1-score   support\n",
      "\n",
      "           0       1.00      1.00      1.00       237\n",
      "           1       0.99      1.00      1.00       175\n",
      "\n",
      "    accuracy                           1.00       412\n",
      "   macro avg       1.00      1.00      1.00       412\n",
      "weighted avg       1.00      1.00      1.00       412\n",
      "\n",
      "This is the accuracy score :  0.9975728155339806\n"
     ]
    }
   ],
   "source": [
    "# Test the KNN model  with the top performing value of K, in a given set of values,\n",
    "# selected thanks to cross-validation and display the main performance indicators\n",
    "testModel(knn_gscv, X_test, y_test)"
   ]
  },
  {
   "cell_type": "code",
   "execution_count": 47,
   "metadata": {},
   "outputs": [
    {
     "name": "stdout",
     "output_type": "stream",
     "text": [
      "This is the classification report :                precision    recall  f1-score   support\n",
      "\n",
      "           0       0.99      0.98      0.99       237\n",
      "           1       0.98      0.99      0.98       175\n",
      "\n",
      "    accuracy                           0.99       412\n",
      "   macro avg       0.98      0.99      0.99       412\n",
      "weighted avg       0.99      0.99      0.99       412\n",
      "\n",
      "This is the accuracy score :  0.9854368932038835\n"
     ]
    }
   ],
   "source": [
    "# Test the RFC model without feature selection and display the main performance indicators\n",
    "testModel(rfc, X_test, y_test)"
   ]
  },
  {
   "cell_type": "code",
   "execution_count": 48,
   "metadata": {},
   "outputs": [
    {
     "name": "stdout",
     "output_type": "stream",
     "text": [
      "This is the classification report :                precision    recall  f1-score   support\n",
      "\n",
      "           0       1.00      0.99      0.99       237\n",
      "           1       0.98      0.99      0.99       175\n",
      "\n",
      "    accuracy                           0.99       412\n",
      "   macro avg       0.99      0.99      0.99       412\n",
      "weighted avg       0.99      0.99      0.99       412\n",
      "\n",
      "This is the accuracy score :  0.9902912621359223\n"
     ]
    }
   ],
   "source": [
    "# Test the RFC model with feature selection performed on the training and testing sets\n",
    "# and display the main performance indicators\n",
    "testModel(rfc_fs, X_test_fs, y_test)"
   ]
  },
  {
   "cell_type": "markdown",
   "metadata": {},
   "source": [
    "## Second case : Chronic Kidney Disease dataset"
   ]
  },
  {
   "cell_type": "markdown",
   "metadata": {},
   "source": [
    "### 1. Import the dataset"
   ]
  },
  {
   "cell_type": "markdown",
   "metadata": {},
   "source": [
    "Import the data and display some information about it to get a better understanding of its structure."
   ]
  },
  {
   "cell_type": "code",
   "execution_count": 49,
   "metadata": {},
   "outputs": [],
   "source": [
    "# Second case : Kidney Disease\n",
    "file2 = 'kidney_disease.csv'"
   ]
  },
  {
   "cell_type": "code",
   "execution_count": 50,
   "metadata": {},
   "outputs": [],
   "source": [
    "# Import the dataset and its main caracteristics\n",
    "kidney, kidneyShape, kidneyHead = importData(file2)"
   ]
  },
  {
   "cell_type": "code",
   "execution_count": 51,
   "metadata": {},
   "outputs": [
    {
     "name": "stdout",
     "output_type": "stream",
     "text": [
      "The dataset has 26 columns and 400 rows\n"
     ]
    }
   ],
   "source": [
    "print(\"The dataset has {} columns and {} rows\".format(kidneyShape[1],kidneyShape[0]))"
   ]
  },
  {
   "cell_type": "code",
   "execution_count": 52,
   "metadata": {},
   "outputs": [
    {
     "data": {
      "text/html": [
       "<div>\n",
       "<style scoped>\n",
       "    .dataframe tbody tr th:only-of-type {\n",
       "        vertical-align: middle;\n",
       "    }\n",
       "\n",
       "    .dataframe tbody tr th {\n",
       "        vertical-align: top;\n",
       "    }\n",
       "\n",
       "    .dataframe thead th {\n",
       "        text-align: right;\n",
       "    }\n",
       "</style>\n",
       "<table border=\"1\" class=\"dataframe\">\n",
       "  <thead>\n",
       "    <tr style=\"text-align: right;\">\n",
       "      <th></th>\n",
       "      <th>id</th>\n",
       "      <th>age</th>\n",
       "      <th>bp</th>\n",
       "      <th>sg</th>\n",
       "      <th>al</th>\n",
       "      <th>su</th>\n",
       "      <th>rbc</th>\n",
       "      <th>pc</th>\n",
       "      <th>pcc</th>\n",
       "      <th>ba</th>\n",
       "      <th>...</th>\n",
       "      <th>pcv</th>\n",
       "      <th>wc</th>\n",
       "      <th>rc</th>\n",
       "      <th>htn</th>\n",
       "      <th>dm</th>\n",
       "      <th>cad</th>\n",
       "      <th>appet</th>\n",
       "      <th>pe</th>\n",
       "      <th>ane</th>\n",
       "      <th>classification</th>\n",
       "    </tr>\n",
       "  </thead>\n",
       "  <tbody>\n",
       "    <tr>\n",
       "      <th>0</th>\n",
       "      <td>0</td>\n",
       "      <td>48.0</td>\n",
       "      <td>80.0</td>\n",
       "      <td>1.020</td>\n",
       "      <td>1.0</td>\n",
       "      <td>0.0</td>\n",
       "      <td>NaN</td>\n",
       "      <td>normal</td>\n",
       "      <td>notpresent</td>\n",
       "      <td>notpresent</td>\n",
       "      <td>...</td>\n",
       "      <td>44</td>\n",
       "      <td>7800</td>\n",
       "      <td>5.2</td>\n",
       "      <td>yes</td>\n",
       "      <td>yes</td>\n",
       "      <td>no</td>\n",
       "      <td>good</td>\n",
       "      <td>no</td>\n",
       "      <td>no</td>\n",
       "      <td>ckd</td>\n",
       "    </tr>\n",
       "    <tr>\n",
       "      <th>1</th>\n",
       "      <td>1</td>\n",
       "      <td>7.0</td>\n",
       "      <td>50.0</td>\n",
       "      <td>1.020</td>\n",
       "      <td>4.0</td>\n",
       "      <td>0.0</td>\n",
       "      <td>NaN</td>\n",
       "      <td>normal</td>\n",
       "      <td>notpresent</td>\n",
       "      <td>notpresent</td>\n",
       "      <td>...</td>\n",
       "      <td>38</td>\n",
       "      <td>6000</td>\n",
       "      <td>NaN</td>\n",
       "      <td>no</td>\n",
       "      <td>no</td>\n",
       "      <td>no</td>\n",
       "      <td>good</td>\n",
       "      <td>no</td>\n",
       "      <td>no</td>\n",
       "      <td>ckd</td>\n",
       "    </tr>\n",
       "    <tr>\n",
       "      <th>2</th>\n",
       "      <td>2</td>\n",
       "      <td>62.0</td>\n",
       "      <td>80.0</td>\n",
       "      <td>1.010</td>\n",
       "      <td>2.0</td>\n",
       "      <td>3.0</td>\n",
       "      <td>normal</td>\n",
       "      <td>normal</td>\n",
       "      <td>notpresent</td>\n",
       "      <td>notpresent</td>\n",
       "      <td>...</td>\n",
       "      <td>31</td>\n",
       "      <td>7500</td>\n",
       "      <td>NaN</td>\n",
       "      <td>no</td>\n",
       "      <td>yes</td>\n",
       "      <td>no</td>\n",
       "      <td>poor</td>\n",
       "      <td>no</td>\n",
       "      <td>yes</td>\n",
       "      <td>ckd</td>\n",
       "    </tr>\n",
       "    <tr>\n",
       "      <th>3</th>\n",
       "      <td>3</td>\n",
       "      <td>48.0</td>\n",
       "      <td>70.0</td>\n",
       "      <td>1.005</td>\n",
       "      <td>4.0</td>\n",
       "      <td>0.0</td>\n",
       "      <td>normal</td>\n",
       "      <td>abnormal</td>\n",
       "      <td>present</td>\n",
       "      <td>notpresent</td>\n",
       "      <td>...</td>\n",
       "      <td>32</td>\n",
       "      <td>6700</td>\n",
       "      <td>3.9</td>\n",
       "      <td>yes</td>\n",
       "      <td>no</td>\n",
       "      <td>no</td>\n",
       "      <td>poor</td>\n",
       "      <td>yes</td>\n",
       "      <td>yes</td>\n",
       "      <td>ckd</td>\n",
       "    </tr>\n",
       "    <tr>\n",
       "      <th>4</th>\n",
       "      <td>4</td>\n",
       "      <td>51.0</td>\n",
       "      <td>80.0</td>\n",
       "      <td>1.010</td>\n",
       "      <td>2.0</td>\n",
       "      <td>0.0</td>\n",
       "      <td>normal</td>\n",
       "      <td>normal</td>\n",
       "      <td>notpresent</td>\n",
       "      <td>notpresent</td>\n",
       "      <td>...</td>\n",
       "      <td>35</td>\n",
       "      <td>7300</td>\n",
       "      <td>4.6</td>\n",
       "      <td>no</td>\n",
       "      <td>no</td>\n",
       "      <td>no</td>\n",
       "      <td>good</td>\n",
       "      <td>no</td>\n",
       "      <td>no</td>\n",
       "      <td>ckd</td>\n",
       "    </tr>\n",
       "  </tbody>\n",
       "</table>\n",
       "<p>5 rows × 26 columns</p>\n",
       "</div>"
      ],
      "text/plain": [
       "   id   age    bp     sg   al   su     rbc        pc         pcc          ba  \\\n",
       "0   0  48.0  80.0  1.020  1.0  0.0     NaN    normal  notpresent  notpresent   \n",
       "1   1   7.0  50.0  1.020  4.0  0.0     NaN    normal  notpresent  notpresent   \n",
       "2   2  62.0  80.0  1.010  2.0  3.0  normal    normal  notpresent  notpresent   \n",
       "3   3  48.0  70.0  1.005  4.0  0.0  normal  abnormal     present  notpresent   \n",
       "4   4  51.0  80.0  1.010  2.0  0.0  normal    normal  notpresent  notpresent   \n",
       "\n",
       "   ...  pcv    wc   rc  htn   dm  cad appet   pe  ane classification  \n",
       "0  ...   44  7800  5.2  yes  yes   no  good   no   no            ckd  \n",
       "1  ...   38  6000  NaN   no   no   no  good   no   no            ckd  \n",
       "2  ...   31  7500  NaN   no  yes   no  poor   no  yes            ckd  \n",
       "3  ...   32  6700  3.9  yes   no   no  poor  yes  yes            ckd  \n",
       "4  ...   35  7300  4.6   no   no   no  good   no   no            ckd  \n",
       "\n",
       "[5 rows x 26 columns]"
      ]
     },
     "execution_count": 52,
     "metadata": {},
     "output_type": "execute_result"
    }
   ],
   "source": [
    "# Display the first rows of the dataset\n",
    "kidneyHead"
   ]
  },
  {
   "cell_type": "markdown",
   "metadata": {},
   "source": [
    "### 2. Clean the data & perform preprocessing"
   ]
  },
  {
   "cell_type": "code",
   "execution_count": 53,
   "metadata": {},
   "outputs": [],
   "source": [
    "# Clean the data (remove dirtiness, centralize, normalize, label-encode ...) and retrieve the ground truth vector\n",
    "kidney, y = cleanData(kidney)"
   ]
  },
  {
   "cell_type": "code",
   "execution_count": 54,
   "metadata": {},
   "outputs": [
    {
     "data": {
      "text/html": [
       "<div>\n",
       "<style scoped>\n",
       "    .dataframe tbody tr th:only-of-type {\n",
       "        vertical-align: middle;\n",
       "    }\n",
       "\n",
       "    .dataframe tbody tr th {\n",
       "        vertical-align: top;\n",
       "    }\n",
       "\n",
       "    .dataframe thead th {\n",
       "        text-align: right;\n",
       "    }\n",
       "</style>\n",
       "<table border=\"1\" class=\"dataframe\">\n",
       "  <thead>\n",
       "    <tr style=\"text-align: right;\">\n",
       "      <th></th>\n",
       "      <th>age</th>\n",
       "      <th>bp</th>\n",
       "      <th>sg</th>\n",
       "      <th>al</th>\n",
       "      <th>su</th>\n",
       "      <th>rbc</th>\n",
       "      <th>pc</th>\n",
       "      <th>pcc</th>\n",
       "      <th>ba</th>\n",
       "      <th>bgr</th>\n",
       "      <th>...</th>\n",
       "      <th>hemo</th>\n",
       "      <th>pcv</th>\n",
       "      <th>wc</th>\n",
       "      <th>rc</th>\n",
       "      <th>htn</th>\n",
       "      <th>dm</th>\n",
       "      <th>cad</th>\n",
       "      <th>appet</th>\n",
       "      <th>pe</th>\n",
       "      <th>ane</th>\n",
       "    </tr>\n",
       "  </thead>\n",
       "  <tbody>\n",
       "    <tr>\n",
       "      <th>0</th>\n",
       "      <td>-0.205207</td>\n",
       "      <td>0.262010</td>\n",
       "      <td>0.482750</td>\n",
       "      <td>-0.013321</td>\n",
       "      <td>-0.437249</td>\n",
       "      <td>1</td>\n",
       "      <td>1</td>\n",
       "      <td>0</td>\n",
       "      <td>0</td>\n",
       "      <td>-0.361535</td>\n",
       "      <td>...</td>\n",
       "      <td>1.057946</td>\n",
       "      <td>0.627586</td>\n",
       "      <td>-0.240218</td>\n",
       "      <td>5.861676e-01</td>\n",
       "      <td>1</td>\n",
       "      <td>1</td>\n",
       "      <td>0</td>\n",
       "      <td>0</td>\n",
       "      <td>0</td>\n",
       "      <td>0</td>\n",
       "    </tr>\n",
       "    <tr>\n",
       "      <th>1</th>\n",
       "      <td>-2.620528</td>\n",
       "      <td>-1.964120</td>\n",
       "      <td>0.482750</td>\n",
       "      <td>2.344580</td>\n",
       "      <td>-0.437249</td>\n",
       "      <td>1</td>\n",
       "      <td>1</td>\n",
       "      <td>0</td>\n",
       "      <td>0</td>\n",
       "      <td>0.000000</td>\n",
       "      <td>...</td>\n",
       "      <td>-0.451531</td>\n",
       "      <td>-0.108513</td>\n",
       "      <td>-0.953592</td>\n",
       "      <td>-1.056960e-15</td>\n",
       "      <td>0</td>\n",
       "      <td>0</td>\n",
       "      <td>0</td>\n",
       "      <td>0</td>\n",
       "      <td>0</td>\n",
       "      <td>0</td>\n",
       "    </tr>\n",
       "    <tr>\n",
       "      <th>2</th>\n",
       "      <td>0.619537</td>\n",
       "      <td>0.262010</td>\n",
       "      <td>-1.379663</td>\n",
       "      <td>0.772646</td>\n",
       "      <td>2.476824</td>\n",
       "      <td>1</td>\n",
       "      <td>1</td>\n",
       "      <td>0</td>\n",
       "      <td>0</td>\n",
       "      <td>3.676836</td>\n",
       "      <td>...</td>\n",
       "      <td>-1.077412</td>\n",
       "      <td>-0.967295</td>\n",
       "      <td>-0.359114</td>\n",
       "      <td>-1.056960e-15</td>\n",
       "      <td>0</td>\n",
       "      <td>1</td>\n",
       "      <td>0</td>\n",
       "      <td>1</td>\n",
       "      <td>0</td>\n",
       "      <td>1</td>\n",
       "    </tr>\n",
       "    <tr>\n",
       "      <th>3</th>\n",
       "      <td>-0.205207</td>\n",
       "      <td>-0.480033</td>\n",
       "      <td>-2.310870</td>\n",
       "      <td>2.344580</td>\n",
       "      <td>-0.437249</td>\n",
       "      <td>1</td>\n",
       "      <td>0</td>\n",
       "      <td>1</td>\n",
       "      <td>0</td>\n",
       "      <td>-0.415023</td>\n",
       "      <td>...</td>\n",
       "      <td>-0.488348</td>\n",
       "      <td>-0.844612</td>\n",
       "      <td>-0.676169</td>\n",
       "      <td>-9.608725e-01</td>\n",
       "      <td>1</td>\n",
       "      <td>0</td>\n",
       "      <td>0</td>\n",
       "      <td>1</td>\n",
       "      <td>1</td>\n",
       "      <td>1</td>\n",
       "    </tr>\n",
       "    <tr>\n",
       "      <th>4</th>\n",
       "      <td>-0.028476</td>\n",
       "      <td>0.262010</td>\n",
       "      <td>-1.379663</td>\n",
       "      <td>0.772646</td>\n",
       "      <td>-0.437249</td>\n",
       "      <td>1</td>\n",
       "      <td>1</td>\n",
       "      <td>0</td>\n",
       "      <td>0</td>\n",
       "      <td>-0.562116</td>\n",
       "      <td>...</td>\n",
       "      <td>-0.341082</td>\n",
       "      <td>-0.476562</td>\n",
       "      <td>-0.438377</td>\n",
       "      <td>-1.278509e-01</td>\n",
       "      <td>0</td>\n",
       "      <td>0</td>\n",
       "      <td>0</td>\n",
       "      <td>0</td>\n",
       "      <td>0</td>\n",
       "      <td>0</td>\n",
       "    </tr>\n",
       "    <tr>\n",
       "      <th>...</th>\n",
       "      <td>...</td>\n",
       "      <td>...</td>\n",
       "      <td>...</td>\n",
       "      <td>...</td>\n",
       "      <td>...</td>\n",
       "      <td>...</td>\n",
       "      <td>...</td>\n",
       "      <td>...</td>\n",
       "      <td>...</td>\n",
       "      <td>...</td>\n",
       "      <td>...</td>\n",
       "      <td>...</td>\n",
       "      <td>...</td>\n",
       "      <td>...</td>\n",
       "      <td>...</td>\n",
       "      <td>...</td>\n",
       "      <td>...</td>\n",
       "      <td>...</td>\n",
       "      <td>...</td>\n",
       "      <td>...</td>\n",
       "      <td>...</td>\n",
       "    </tr>\n",
       "    <tr>\n",
       "      <th>395</th>\n",
       "      <td>0.207165</td>\n",
       "      <td>0.262010</td>\n",
       "      <td>0.482750</td>\n",
       "      <td>-0.799289</td>\n",
       "      <td>-0.437249</td>\n",
       "      <td>1</td>\n",
       "      <td>1</td>\n",
       "      <td>0</td>\n",
       "      <td>0</td>\n",
       "      <td>-0.107465</td>\n",
       "      <td>...</td>\n",
       "      <td>1.168396</td>\n",
       "      <td>0.995635</td>\n",
       "      <td>-0.676169</td>\n",
       "      <td>2.291584e-01</td>\n",
       "      <td>0</td>\n",
       "      <td>0</td>\n",
       "      <td>0</td>\n",
       "      <td>0</td>\n",
       "      <td>0</td>\n",
       "      <td>0</td>\n",
       "    </tr>\n",
       "    <tr>\n",
       "      <th>396</th>\n",
       "      <td>-0.558668</td>\n",
       "      <td>-0.480033</td>\n",
       "      <td>1.413957</td>\n",
       "      <td>-0.799289</td>\n",
       "      <td>-0.437249</td>\n",
       "      <td>1</td>\n",
       "      <td>1</td>\n",
       "      <td>0</td>\n",
       "      <td>0</td>\n",
       "      <td>-0.976651</td>\n",
       "      <td>...</td>\n",
       "      <td>1.462928</td>\n",
       "      <td>1.854417</td>\n",
       "      <td>-0.240218</td>\n",
       "      <td>1.776199e+00</td>\n",
       "      <td>0</td>\n",
       "      <td>0</td>\n",
       "      <td>0</td>\n",
       "      <td>0</td>\n",
       "      <td>0</td>\n",
       "      <td>0</td>\n",
       "    </tr>\n",
       "    <tr>\n",
       "      <th>397</th>\n",
       "      <td>-2.325977</td>\n",
       "      <td>0.262010</td>\n",
       "      <td>0.482750</td>\n",
       "      <td>-0.799289</td>\n",
       "      <td>-0.437249</td>\n",
       "      <td>1</td>\n",
       "      <td>1</td>\n",
       "      <td>0</td>\n",
       "      <td>0</td>\n",
       "      <td>-0.642349</td>\n",
       "      <td>...</td>\n",
       "      <td>1.205212</td>\n",
       "      <td>1.241001</td>\n",
       "      <td>-0.715801</td>\n",
       "      <td>8.241738e-01</td>\n",
       "      <td>0</td>\n",
       "      <td>0</td>\n",
       "      <td>0</td>\n",
       "      <td>0</td>\n",
       "      <td>0</td>\n",
       "      <td>0</td>\n",
       "    </tr>\n",
       "    <tr>\n",
       "      <th>398</th>\n",
       "      <td>-2.031425</td>\n",
       "      <td>-1.222077</td>\n",
       "      <td>1.413957</td>\n",
       "      <td>-0.799289</td>\n",
       "      <td>-0.437249</td>\n",
       "      <td>1</td>\n",
       "      <td>1</td>\n",
       "      <td>0</td>\n",
       "      <td>0</td>\n",
       "      <td>-0.455139</td>\n",
       "      <td>...</td>\n",
       "      <td>0.616148</td>\n",
       "      <td>1.486367</td>\n",
       "      <td>-0.478009</td>\n",
       "      <td>1.419189e+00</td>\n",
       "      <td>0</td>\n",
       "      <td>0</td>\n",
       "      <td>0</td>\n",
       "      <td>0</td>\n",
       "      <td>0</td>\n",
       "      <td>0</td>\n",
       "    </tr>\n",
       "    <tr>\n",
       "      <th>399</th>\n",
       "      <td>0.383896</td>\n",
       "      <td>0.262010</td>\n",
       "      <td>1.413957</td>\n",
       "      <td>-0.799289</td>\n",
       "      <td>-0.437249</td>\n",
       "      <td>1</td>\n",
       "      <td>1</td>\n",
       "      <td>0</td>\n",
       "      <td>0</td>\n",
       "      <td>-0.227814</td>\n",
       "      <td>...</td>\n",
       "      <td>1.205212</td>\n",
       "      <td>1.731734</td>\n",
       "      <td>-0.636537</td>\n",
       "      <td>1.657195e+00</td>\n",
       "      <td>0</td>\n",
       "      <td>0</td>\n",
       "      <td>0</td>\n",
       "      <td>0</td>\n",
       "      <td>0</td>\n",
       "      <td>0</td>\n",
       "    </tr>\n",
       "  </tbody>\n",
       "</table>\n",
       "<p>400 rows × 24 columns</p>\n",
       "</div>"
      ],
      "text/plain": [
       "          age        bp        sg        al        su  rbc  pc  pcc  ba  \\\n",
       "0   -0.205207  0.262010  0.482750 -0.013321 -0.437249    1   1    0   0   \n",
       "1   -2.620528 -1.964120  0.482750  2.344580 -0.437249    1   1    0   0   \n",
       "2    0.619537  0.262010 -1.379663  0.772646  2.476824    1   1    0   0   \n",
       "3   -0.205207 -0.480033 -2.310870  2.344580 -0.437249    1   0    1   0   \n",
       "4   -0.028476  0.262010 -1.379663  0.772646 -0.437249    1   1    0   0   \n",
       "..        ...       ...       ...       ...       ...  ...  ..  ...  ..   \n",
       "395  0.207165  0.262010  0.482750 -0.799289 -0.437249    1   1    0   0   \n",
       "396 -0.558668 -0.480033  1.413957 -0.799289 -0.437249    1   1    0   0   \n",
       "397 -2.325977  0.262010  0.482750 -0.799289 -0.437249    1   1    0   0   \n",
       "398 -2.031425 -1.222077  1.413957 -0.799289 -0.437249    1   1    0   0   \n",
       "399  0.383896  0.262010  1.413957 -0.799289 -0.437249    1   1    0   0   \n",
       "\n",
       "          bgr  ...      hemo       pcv        wc            rc  htn  dm  cad  \\\n",
       "0   -0.361535  ...  1.057946  0.627586 -0.240218  5.861676e-01    1   1    0   \n",
       "1    0.000000  ... -0.451531 -0.108513 -0.953592 -1.056960e-15    0   0    0   \n",
       "2    3.676836  ... -1.077412 -0.967295 -0.359114 -1.056960e-15    0   1    0   \n",
       "3   -0.415023  ... -0.488348 -0.844612 -0.676169 -9.608725e-01    1   0    0   \n",
       "4   -0.562116  ... -0.341082 -0.476562 -0.438377 -1.278509e-01    0   0    0   \n",
       "..        ...  ...       ...       ...       ...           ...  ...  ..  ...   \n",
       "395 -0.107465  ...  1.168396  0.995635 -0.676169  2.291584e-01    0   0    0   \n",
       "396 -0.976651  ...  1.462928  1.854417 -0.240218  1.776199e+00    0   0    0   \n",
       "397 -0.642349  ...  1.205212  1.241001 -0.715801  8.241738e-01    0   0    0   \n",
       "398 -0.455139  ...  0.616148  1.486367 -0.478009  1.419189e+00    0   0    0   \n",
       "399 -0.227814  ...  1.205212  1.731734 -0.636537  1.657195e+00    0   0    0   \n",
       "\n",
       "     appet  pe  ane  \n",
       "0        0   0    0  \n",
       "1        0   0    0  \n",
       "2        1   0    1  \n",
       "3        1   1    1  \n",
       "4        0   0    0  \n",
       "..     ...  ..  ...  \n",
       "395      0   0    0  \n",
       "396      0   0    0  \n",
       "397      0   0    0  \n",
       "398      0   0    0  \n",
       "399      0   0    0  \n",
       "\n",
       "[400 rows x 24 columns]"
      ]
     },
     "execution_count": 54,
     "metadata": {},
     "output_type": "execute_result"
    }
   ],
   "source": [
    "# Display the cleaned dataset\n",
    "kidney"
   ]
  },
  {
   "cell_type": "markdown",
   "metadata": {},
   "source": [
    "### 3. Split the dataset"
   ]
  },
  {
   "cell_type": "code",
   "execution_count": 55,
   "metadata": {},
   "outputs": [],
   "source": [
    "# Split the dataset into 2 parts : a train set & a test set\n",
    "X_train, X_test, y_train, y_test = splitData(kidney,y)"
   ]
  },
  {
   "cell_type": "markdown",
   "metadata": {},
   "source": [
    "### 4. Train models"
   ]
  },
  {
   "cell_type": "markdown",
   "metadata": {},
   "source": [
    "Train 2 K-Nearest Neighbors (KNN) models, one with an arbitrarily chosen value of K and another one with the top performing value of K, in a given set of values, selected thanks to cross-validation."
   ]
  },
  {
   "cell_type": "code",
   "execution_count": 56,
   "metadata": {},
   "outputs": [],
   "source": [
    "# Train a first K-Nearest Neighbors (KNN) model with an arbitrarily chosen default number of neighbours (=5).\n",
    "knn = trainKnn(X_train,y_train)"
   ]
  },
  {
   "cell_type": "code",
   "execution_count": 57,
   "metadata": {},
   "outputs": [
    {
     "name": "stdout",
     "output_type": "stream",
     "text": [
      "The top performing value for K is 2 with a mean score of 0.9714285714285713\n"
     ]
    }
   ],
   "source": [
    "# Train another KNN model, but, this time, using cross-validation (with 10 folds) for the choice of K in [1,25].\n",
    "import numpy as np\n",
    "knn_gscv, best_params, best_score = trainKnn(X_train,y_train,crossval=True,n_neighbors=np.arange(1,25),cv=10)\n",
    "\n",
    "# Display the top performing number of neigbor value & the mean score for the top performing number of neigbor value\n",
    "print(\"The top performing value for K is {} with a mean score of {}\".format(best_params['n_neighbors'],best_score))"
   ]
  },
  {
   "cell_type": "markdown",
   "metadata": {},
   "source": [
    "Train 2 Random Forest models, the second one being trained on a training set on which feature selection has been previously done."
   ]
  },
  {
   "cell_type": "code",
   "execution_count": 58,
   "metadata": {},
   "outputs": [],
   "source": [
    "# Train a Random Forest Classifier (RFC) with 1000 trees \n",
    "rfc = trainRfc(X_train,y_train)"
   ]
  },
  {
   "cell_type": "code",
   "execution_count": 59,
   "metadata": {},
   "outputs": [
    {
     "name": "stdout",
     "output_type": "stream",
     "text": [
      "The most relevant features are : ['sg', 'hemo', 'pcv']\n"
     ]
    },
    {
     "data": {
      "image/png": "[encoded data removed]",
      "text/plain": [
       "<Figure size 864x216 with 1 Axes>"
      ]
     },
     "metadata": {
      "needs_background": "light"
     },
     "output_type": "display_data"
    }
   ],
   "source": [
    "# Train a Random Forest Classifier model with feature selection done beforehead.\n",
    "rfc_fs, X_test_fs = trainRfc(X_train,y_train,featureselection=True,t=0.14,X_test=X_test)"
   ]
  },
  {
   "cell_type": "markdown",
   "metadata": {},
   "source": [
    "### 5. Validate the models"
   ]
  },
  {
   "cell_type": "markdown",
   "metadata": {},
   "source": [
    "Display the accuracy scores for each model trained above. "
   ]
  },
  {
   "cell_type": "code",
   "execution_count": 60,
   "metadata": {},
   "outputs": [
    {
     "name": "stdout",
     "output_type": "stream",
     "text": [
      "This is the classification report :                precision    recall  f1-score   support\n",
      "\n",
      "         ckd       1.00      0.96      0.98        79\n",
      "      notckd       0.93      1.00      0.96        41\n",
      "\n",
      "    accuracy                           0.97       120\n",
      "   macro avg       0.97      0.98      0.97       120\n",
      "weighted avg       0.98      0.97      0.98       120\n",
      "\n",
      "This is the accuracy score :  0.975\n"
     ]
    }
   ],
   "source": [
    "# Test the KNN model without the most accurate K value and display the main performance indicators\n",
    "testModel(knn, X_test, y_test)"
   ]
  },
  {
   "cell_type": "code",
   "execution_count": 61,
   "metadata": {},
   "outputs": [
    {
     "name": "stdout",
     "output_type": "stream",
     "text": [
      "This is the classification report :                precision    recall  f1-score   support\n",
      "\n",
      "         ckd       0.99      0.99      0.99        79\n",
      "      notckd       0.98      0.98      0.98        41\n",
      "\n",
      "    accuracy                           0.98       120\n",
      "   macro avg       0.98      0.98      0.98       120\n",
      "weighted avg       0.98      0.98      0.98       120\n",
      "\n",
      "This is the accuracy score :  0.9833333333333333\n"
     ]
    }
   ],
   "source": [
    "# Test the KNN model  with the top performing value of K, in a given set of values,\n",
    "# selected thanks to cross-validation and display the main performance indicators\n",
    "testModel(knn_gscv, X_test, y_test)"
   ]
  },
  {
   "cell_type": "code",
   "execution_count": 62,
   "metadata": {},
   "outputs": [
    {
     "name": "stdout",
     "output_type": "stream",
     "text": [
      "This is the classification report :                precision    recall  f1-score   support\n",
      "\n",
      "         ckd       0.99      1.00      0.99        79\n",
      "      notckd       1.00      0.98      0.99        41\n",
      "\n",
      "    accuracy                           0.99       120\n",
      "   macro avg       0.99      0.99      0.99       120\n",
      "weighted avg       0.99      0.99      0.99       120\n",
      "\n",
      "This is the accuracy score :  0.9916666666666667\n"
     ]
    }
   ],
   "source": [
    "# Test the RFC model without feature selection and display the main performance indicators\n",
    "testModel(rfc, X_test, y_test)"
   ]
  },
  {
   "cell_type": "code",
   "execution_count": 63,
   "metadata": {},
   "outputs": [
    {
     "name": "stdout",
     "output_type": "stream",
     "text": [
      "This is the classification report :                precision    recall  f1-score   support\n",
      "\n",
      "         ckd       0.96      1.00      0.98        79\n",
      "      notckd       1.00      0.93      0.96        41\n",
      "\n",
      "    accuracy                           0.97       120\n",
      "   macro avg       0.98      0.96      0.97       120\n",
      "weighted avg       0.98      0.97      0.97       120\n",
      "\n",
      "This is the accuracy score :  0.975\n"
     ]
    }
   ],
   "source": [
    "# Test the RFC model with feature selection performed on the training and testing sets\n",
    "# and display the main performance indicators\n",
    "testModel(rfc_fs, X_test_fs, y_test)"
   ]
  },
  {
   "cell_type": "markdown",
   "metadata": {},
   "source": [
    "We can see from the accuracy score above that the RFC model including feature selection slightly under performed the basic RFC model.\n",
    "This might be due to a threshold on the feature importance too high, which resulted into not enough information retrieved from the data to predict kidney disease the most accurately.\n",
    "\n",
    "Nonetheless, the accuracy score is still very good with much less data provided, so we can still conclude that feature selection is efficient and good solution when it comes to classification tasks on dataset with a high number of parameters."
   ]
  }
 ],
 "metadata": {
  "kernelspec": {
   "display_name": "Python 3 (ipykernel)",
   "language": "python",
   "name": "python3"
  },
  "language_info": {
   "codemirror_mode": {
    "name": "ipython",
    "version": 3
   },
   "file_extension": ".py",
   "mimetype": "text/x-python",
   "name": "python",
   "nbconvert_exporter": "python",
   "pygments_lexer": "ipython3",
   "version": "3.9.7"
  }
 },
 "nbformat": 4,
 "nbformat_minor": 4
}
